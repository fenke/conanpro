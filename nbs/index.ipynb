{
 "cells": [
  {
   "cell_type": "code",
   "execution_count": null,
   "metadata": {},
   "outputs": [],
   "source": [
    "#| hide\n",
    "from conanpro.core import *"
   ]
  },
  {
   "cell_type": "markdown",
   "metadata": {},
   "source": [
    "# conanpro\n",
    "\n",
    "> Concept for Analytics Processing"
   ]
  },
  {
   "cell_type": "markdown",
   "metadata": {},
   "source": [
    "This file will become your README and also the index of your documentation."
   ]
  },
  {
   "cell_type": "markdown",
   "metadata": {},
   "source": [
    "## Install"
   ]
  },
  {
   "cell_type": "markdown",
   "metadata": {},
   "source": [
    "```sh\n",
    "pip install conanpro\n",
    "```"
   ]
  },
  {
   "cell_type": "markdown",
   "metadata": {},
   "source": [
    "## How to use"
   ]
  },
  {
   "cell_type": "markdown",
   "metadata": {},
   "source": [
    "Fill me in please! Don't forget code examples:"
   ]
  },
  {
   "cell_type": "code",
   "execution_count": null,
   "metadata": {},
   "outputs": [
    {
     "data": {
      "text/plain": [
       "2"
      ]
     },
     "execution_count": null,
     "metadata": {},
     "output_type": "execute_result"
    }
   ],
   "source": [
    "1+1"
   ]
  },
  {
   "cell_type": "code",
   "execution_count": null,
   "metadata": {},
   "outputs": [],
   "source": []
  },
  {
   "cell_type": "markdown",
   "metadata": {},
   "source": [
    "## Setting up a development environment\n",
    "Development environment can be set up with venv or conda + venv. For a plain venv environment it is pretty straightforward. With conda we use a venv on top of a conda environment to install dependancies that are not available through conda.\n",
    "\n",
    "### venv\n",
    "\n",
    "    python -m venv .nbdev\n",
    "    source .nbdev/bin/activate\n",
    "    \n",
    "    pip install --upgrade pip\n",
    "    pip install -r dev-requirements\n",
    "    python -m ipykernel install --user --name=nbdev\n",
    "\n",
    "### conda + venv\n",
    "\n",
    "First set up the conda environment\n",
    "\n",
    "#### Create conda environment\n",
    "Use an existing environment or create a new one\n",
    "\n",
    "    conda env create -f numdev.yml\n",
    "\n",
    "#### Creating an underlying venv for nbdev\n",
    "\n",
    "    conda activate numdev\n",
    "    python -m venv --system-site-packages .nbdev\n",
    "    source .nbdev/bin/activate\n",
    "    pip install --upgrade pip\n",
    "    pip install -r dev-requirements\n",
    "    python -m ipykernel install --user --name=nbdev\n",
    "\n"
   ]
  }
 ],
 "metadata": {
  "kernelspec": {
   "display_name": "python3",
   "language": "python",
   "name": "python3"
  }
 },
 "nbformat": 4,
 "nbformat_minor": 4
}
