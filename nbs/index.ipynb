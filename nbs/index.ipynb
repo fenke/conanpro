{
 "cells": [
  {
   "cell_type": "code",
   "execution_count": null,
   "metadata": {},
   "outputs": [],
   "source": [
    "#| hide\n",
    "from conanpro.core import *"
   ]
  },
  {
   "cell_type": "markdown",
   "metadata": {},
   "source": [
    "# conanpro\n"
   ]
  },
  {
   "cell_type": "markdown",
   "metadata": {},
   "source": [
    "\n",
    "> Concept for Analytics Processing\n",
    "\n",
    "Small conceptual framework to embed analytic functions in a composite host object that can provide them with data and process their result."
   ]
  },
  {
   "cell_type": "markdown",
   "metadata": {},
   "source": [
    "## Install"
   ]
  },
  {
   "cell_type": "markdown",
   "metadata": {},
   "source": [
    "```sh\n",
    "pip install conanpro\n",
    "```"
   ]
  },
  {
   "cell_type": "markdown",
   "metadata": {},
   "source": [
    "## How to use"
   ]
  },
  {
   "cell_type": "markdown",
   "metadata": {},
   "source": [
    "Fill me in please! Don't forget code examples:"
   ]
  },
  {
   "cell_type": "code",
   "execution_count": null,
   "metadata": {},
   "outputs": [
    {
     "data": {
      "text/plain": [
       "2"
      ]
     },
     "execution_count": null,
     "metadata": {},
     "output_type": "execute_result"
    }
   ],
   "source": [
    "1+1"
   ]
  },
  {
   "cell_type": "markdown",
   "metadata": {},
   "source": [
    "## Setting up a development environment"
   ]
  },
  {
   "cell_type": "markdown",
   "metadata": {},
   "source": [
    "Development environment can be set up with venv or conda + venv. For a plain venv environment it is pretty straightforward. With conda we use a venv on top of a conda environment to install dependancies that are not available through conda.\n",
    "\n",
    "\n",
    "### venv\n",
    "\n",
    "\n",
    "    python -m venv .nbdev\n",
    "    source .nbdev/bin/activate\n",
    "    \n",
    "    pip install --upgrade pip\n",
    "    pip install -r dev-requirements\n",
    "    python -m ipykernel install --user --name=nbdev\n",
    "\n",
    "\n",
    "### conda + venv\n",
    "\n",
    "First set up the conda environment\n",
    "\n",
    "#### Create conda environment\n",
    "Use an existing environment or create a new one\n",
    "\n",
    "    conda env create -f numdev.yml\n",
    "\n",
    "#### Creating an underlying venv for nbdev\n",
    "\n",
    "    conda activate numdev\n",
    "    python -m venv --system-site-packages .nbdev\n",
    "    source .nbdev/bin/activate\n",
    "    pip install --upgrade pip\n",
    "    pip install -r dev-requirements\n",
    "    python -m ipykernel install --user --name=nbdev\n",
    "\n"
   ]
  }
 ],
 "metadata": {
  "kernelspec": {
   "display_name": "python3",
   "language": "python",
   "name": "python3"
  }
 },
 "nbformat": 4,
 "nbformat_minor": 4
}
